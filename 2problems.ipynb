{
 "cells": [
  {
   "cell_type": "code",
   "execution_count": 58,
   "metadata": {},
   "outputs": [
    {
     "data": {
      "text/plain": [
       "[[[[[2], None, 2], [None, None, 3], 2], [[None, None, 2], [3], 3], 2],\n",
       " [[[None, None, 2], [3], 2], [[2], None, 3], 3]]"
      ]
     },
     "execution_count": 58,
     "metadata": {},
     "output_type": "execute_result"
    }
   ],
   "source": [
    "def allnum(tn,nums):\n",
    "    if tn==0: return []\n",
    "    if tn<0: return None\n",
    "    result=[]\n",
    "    for i in nums:\n",
    "        res=allnum(tn-i,nums)\n",
    "        if res is not None:\n",
    "            res.append(i)\n",
    "        result.append(res)\n",
    "    return result\n",
    "allnum(8,[2,3])"
   ]
  },
  {
   "cell_type": "code",
   "execution_count": 4,
   "metadata": {},
   "outputs": [
    {
     "data": {
      "text/plain": [
       "[]"
      ]
     },
     "execution_count": 4,
     "metadata": {},
     "output_type": "execute_result"
    }
   ],
   "source": []
  },
  {
   "cell_type": "code",
   "execution_count": 2,
   "metadata": {},
   "outputs": [
    {
     "data": {
      "text/plain": [
       "NoneType"
      ]
     },
     "execution_count": 2,
     "metadata": {},
     "output_type": "execute_result"
    }
   ],
   "source": [
    "type(None)"
   ]
  },
  {
   "cell_type": "code",
   "execution_count": 92,
   "metadata": {},
   "outputs": [],
   "source": [
    "def cansum(tn,nums):\n",
    "    if tn==0: return True\n",
    "    if tn<0: return False\n",
    "    for i in nums:\n",
    "        if cansum(tn-i,nums):\n",
    "            return True\n",
    "    return False"
   ]
  },
  {
   "cell_type": "code",
   "execution_count": 94,
   "metadata": {},
   "outputs": [],
   "source": [
    "def cansum(tn,nums,d={}):\n",
    "    if tn in d: return d[tn]\n",
    "    if tn==0: return True\n",
    "    if tn<0: return False\n",
    "    for i in nums:\n",
    "        if cansum(tn-i,nums):\n",
    "            d[tn]=True\n",
    "            return True\n",
    "    d[tn]=False\n",
    "    return False"
   ]
  },
  {
   "cell_type": "code",
   "execution_count": 95,
   "metadata": {},
   "outputs": [
    {
     "data": {
      "text/plain": [
       "False"
      ]
     },
     "execution_count": 95,
     "metadata": {},
     "output_type": "execute_result"
    }
   ],
   "source": [
    "cansum(300,[7,14])"
   ]
  },
  {
   "cell_type": "code",
   "execution_count": 3,
   "metadata": {},
   "outputs": [],
   "source": [
    "def howsum(tn,nums):\n",
    "    if tn==0: return []\n",
    "    if tn<0: return None\n",
    "    best=[]\n",
    "    for i in nums:\n",
    "        res=howsum(tn-i,nums)\n",
    "        if res is not None:\n",
    "            res.append(i)\n",
    "            if best==[]:\n",
    "                best=res[:]\n",
    "            if len(res)<len(best):\n",
    "                best=res[:]\n",
    "    return best\n",
    "            "
   ]
  },
  {
   "cell_type": "code",
   "execution_count": 5,
   "metadata": {},
   "outputs": [],
   "source": [
    "def howsum(tn,nums,d={}):\n",
    "    if tn in d: return d[tn]\n",
    "    if tn==0: return []\n",
    "    if tn<0: return None\n",
    "    best=[]\n",
    "    for i in nums:\n",
    "        res=howsum(tn-i,nums)\n",
    "        if res is not None:\n",
    "            res.append(i)\n",
    "            if best==[]:\n",
    "                best=res[:]\n",
    "            if len(res)<len(best):\n",
    "                best=res[:]\n",
    "    d[tn]=best[:]\n",
    "    return best\n",
    "            "
   ]
  },
  {
   "cell_type": "code",
   "execution_count": null,
   "metadata": {},
   "outputs": [],
   "source": [
    "howsum(300,[7,14])"
   ]
  },
  {
   "cell_type": "code",
   "execution_count": 57,
   "metadata": {},
   "outputs": [],
   "source": [
    "def allsum(tn,nums):\n",
    "    if tn==0: return [[]]\n",
    "    if tn<0: return []\n",
    "    final=[]\n",
    "    for i in nums:\n",
    "        res=allsum(tn-i,nums)\n",
    "        if res is not []:\n",
    "            for k in res:\n",
    "                k.append(i)\n",
    "                final.append(k)\n",
    "    return final"
   ]
  },
  {
   "cell_type": "code",
   "execution_count": 70,
   "metadata": {},
   "outputs": [
    {
     "data": {
      "text/plain": [
       "[]"
      ]
     },
     "execution_count": 70,
     "metadata": {},
     "output_type": "execute_result"
    }
   ],
   "source": [
    "def allsum(tn,nums,d={}):\n",
    "    if tn in d: return d[tn]\n",
    "    if tn==0: return [[]]\n",
    "    if tn<0: return []\n",
    "    final=[]\n",
    "    for i in nums:\n",
    "        res=allsum(tn-i,nums,d)\n",
    "        if res is not []:\n",
    "            for k in res:\n",
    "                k.append(i)\n",
    "                final.append(k[:])\n",
    "    final_res=[]\n",
    "    for i in final:\n",
    "        final_res.append(i[:])\n",
    "    d[tn]=final_res\n",
    "    return final\n",
    "allsum(300,[7,14])"
   ]
  },
  {
   "cell_type": "code",
   "execution_count": 68,
   "metadata": {},
   "outputs": [
    {
     "data": {
      "text/plain": [
       "[[3, 2, 3], [2, 3, 3]]"
      ]
     },
     "execution_count": 68,
     "metadata": {},
     "output_type": "execute_result"
    }
   ],
   "source": []
  },
  {
   "cell_type": "code",
   "execution_count": 11,
   "metadata": {},
   "outputs": [],
   "source": [
    "def canmake(tw,words,d={}):\n",
    "    if tw in d: return d[tw]\n",
    "    if tw=='': return True\n",
    "    for i in words:\n",
    "        if i==tw[:len(i)]:\n",
    "            if canmake(tw[len(i):],words):\n",
    "                d[tw]=True\n",
    "                return True\n",
    "    d[tw]=False\n",
    "    return False"
   ]
  },
  {
   "cell_type": "code",
   "execution_count": 20,
   "metadata": {},
   "outputs": [
    {
     "data": {
      "text/plain": [
       "['le', 'purp']"
      ]
     },
     "execution_count": 20,
     "metadata": {},
     "output_type": "execute_result"
    }
   ],
   "source": [
    "def howmake(tw,words,d={}):\n",
    "    if tw in d: return d[tw]\n",
    "    if tw == '': return []\n",
    "    final=[]\n",
    "    for i in words:\n",
    "        if i==tw[:len(i)]:\n",
    "            res=howmake(tw[len(i):],words)\n",
    "            if res is not False:\n",
    "                res.append(i)\n",
    "                d[tw]=res\n",
    "                return res\n",
    "    d[tw]=False\n",
    "    return False\n",
    "howmake('skateboard',['bo','rd','ate','t','ska','sk','boar'])\n",
    "howmake('purple',['purp','p','ur','le','purpl'])\n",
    "howmake('eeeeeeeeeeeeeeeeeeeeeeeeeeeeeef',['e','ee','eee','eeee','eeeee','eeeeee'])"
   ]
  },
  {
   "cell_type": "code",
   "execution_count": 20,
   "metadata": {},
   "outputs": [
    {
     "data": {
      "text/plain": [
       "['purp', 'p']"
      ]
     },
     "execution_count": 20,
     "metadata": {},
     "output_type": "execute_result"
    }
   ],
   "source": [
    "howmake('purple',['purp','p','ur','le','purpl'])"
   ]
  },
  {
   "cell_type": "code",
   "execution_count": null,
   "metadata": {},
   "outputs": [],
   "source": [
    "def allmake(tw,words):\n",
    "    "
   ]
  },
  {
   "cell_type": "code",
   "execution_count": 81,
   "metadata": {},
   "outputs": [],
   "source": [
    "def allconstruct(tw,words,d={}):\n",
    "    if tw in d: return d[tw]\n",
    "    if tw=='':return [[]]\n",
    "    final=[]\n",
    "    for i in words:\n",
    "        if i==tw[:len(i)]:\n",
    "            res=allconstruct(tw[len(i):],words)\n",
    "            if res is not []:\n",
    "                for k in res:\n",
    "                    k.insert(0,i[:])\n",
    "                    final.append(k[:])\n",
    "    final_res=[]\n",
    "    for i in final:\n",
    "        final_res.append(i[:])\n",
    "    d[tw]=final_res\n",
    "    return final"
   ]
  },
  {
   "cell_type": "code",
   "execution_count": 83,
   "metadata": {},
   "outputs": [
    {
     "data": {
      "text/plain": [
       "[]"
      ]
     },
     "execution_count": 83,
     "metadata": {},
     "output_type": "execute_result"
    }
   ],
   "source": [
    "allconstruct('eeeeeeeeeeeeeeeeeeeeeeeeeeeeeef',['e','ee','eee','eeee','eeeee','eeeeee'])"
   ]
  },
  {
   "cell_type": "code",
   "execution_count": 116,
   "metadata": {},
   "outputs": [],
   "source": [
    "def fib(num):\n",
    "    lst=[0 for i in range(num+1)]\n",
    "    lst[1]=1\n",
    "    for i in enumerate(lst):\n",
    "        if len(lst)>i[0]+1 and len(lst)>i[0]+2:\n",
    "            lst[i[0]+1]=lst[i[0]+1]+i[1]\n",
    "            lst[i[0]+2]=lst[i[0]+2]+i[1]\n",
    "        elif len(lst)>i[0]+1:\n",
    "            lst[i[0]+1]=lst[i[0]+1]+i[1]\n",
    "    return lst[-1]"
   ]
  },
  {
   "cell_type": "code",
   "execution_count": 120,
   "metadata": {},
   "outputs": [],
   "source": [
    "def fib(num):\n",
    "    lst=[0 for i in range(num+1)]\n",
    "    lst[1]=1\n",
    "    for inx,val in enumerate(lst):\n",
    "        if len(lst)>inx+1 and len(lst)>inx+2:\n",
    "            lst[inx+1]=lst[inx+1]+val\n",
    "            lst[inx+2]=lst[inx+2]+val\n",
    "        elif len(lst)>inx+1:\n",
    "            lst[inx+1]=lst[inx+1]+val\n",
    "    return lst[-1]"
   ]
  },
  {
   "cell_type": "code",
   "execution_count": 121,
   "metadata": {},
   "outputs": [
    {
     "data": {
      "text/plain": [
       "139423224561697880139724382870407283950070256587697307264108962948325571622863290691557658876222521294125"
      ]
     },
     "execution_count": 121,
     "metadata": {},
     "output_type": "execute_result"
    }
   ],
   "source": [
    "fib(500)"
   ]
  },
  {
   "cell_type": "code",
   "execution_count": 122,
   "metadata": {},
   "outputs": [],
   "source": [
    "r=2;c=3"
   ]
  },
  {
   "cell_type": "code",
   "execution_count": 123,
   "metadata": {},
   "outputs": [
    {
     "data": {
      "text/plain": [
       "[0, 0, 0]"
      ]
     },
     "execution_count": 123,
     "metadata": {},
     "output_type": "execute_result"
    }
   ],
   "source": [
    "[0 for i in range(r+1)]"
   ]
  },
  {
   "cell_type": "code",
   "execution_count": 128,
   "metadata": {},
   "outputs": [
    {
     "data": {
      "text/plain": [
       "[0, 0, 0, 1, 1, 1, 2, 2, 2, 3, 3, 3]"
      ]
     },
     "execution_count": 128,
     "metadata": {},
     "output_type": "execute_result"
    }
   ],
   "source": [
    "[ k for k in range(c+1) for i in range(r+1)]"
   ]
  },
  {
   "cell_type": "code",
   "execution_count": 129,
   "metadata": {},
   "outputs": [],
   "source": [
    "lst=[]\n",
    "for i in range(r+1):\n",
    "    sub_list=[]\n",
    "    for k in range(c+1):\n",
    "        sub_list.append(0)\n",
    "    lst.append(sub_list)"
   ]
  },
  {
   "cell_type": "code",
   "execution_count": 130,
   "metadata": {},
   "outputs": [
    {
     "data": {
      "text/plain": [
       "[[0, 0, 0, 0], [0, 0, 0, 0], [0, 0, 0, 0]]"
      ]
     },
     "execution_count": 130,
     "metadata": {},
     "output_type": "execute_result"
    }
   ],
   "source": [
    "lst"
   ]
  },
  {
   "cell_type": "code",
   "execution_count": 131,
   "metadata": {},
   "outputs": [
    {
     "data": {
      "text/plain": [
       "0"
      ]
     },
     "execution_count": 131,
     "metadata": {},
     "output_type": "execute_result"
    }
   ],
   "source": [
    "lst[0][1]"
   ]
  },
  {
   "cell_type": "code",
   "execution_count": 139,
   "metadata": {},
   "outputs": [],
   "source": []
  },
  {
   "cell_type": "code",
   "execution_count": 143,
   "metadata": {},
   "outputs": [],
   "source": [
    "def grid(r,c):\n",
    "    lst=[[0 for k in range(c+1)] for i in range(r+1)]\n",
    "    lst[1][1]=1\n",
    "    for row in range(r+1):\n",
    "        for col in range(c+1):\n",
    "            if row<r:\n",
    "                lst[row+1][col]+=lst[row][col]\n",
    "            if col<c:\n",
    "                lst[row][col+1]+=lst[row][col]\n",
    "    return lst[r][c]"
   ]
  },
  {
   "cell_type": "code",
   "execution_count": 146,
   "metadata": {},
   "outputs": [
    {
     "data": {
      "text/plain": [
       "2333606220"
      ]
     },
     "execution_count": 146,
     "metadata": {},
     "output_type": "execute_result"
    }
   ],
   "source": [
    "grid(18,18)"
   ]
  },
  {
   "cell_type": "code",
   "execution_count": 38,
   "metadata": {},
   "outputs": [],
   "source": [
    "r=18;c=18"
   ]
  },
  {
   "cell_type": "code",
   "execution_count": 3,
   "metadata": {},
   "outputs": [
    {
     "name": "stdout",
     "output_type": "stream",
     "text": [
      "[[0, 0, 0, 0], [0, 0, 0, 0], [0, 0, 0, 0]]\n"
     ]
    }
   ],
   "source": [
    "lst=[]\n",
    "for i in range(r+1):\n",
    "    sub_list=[]\n",
    "    for i in range(c+1):\n",
    "        sub_list.append(0)\n",
    "    lst.append(sub_list)"
   ]
  },
  {
   "cell_type": "code",
   "execution_count": 9,
   "metadata": {},
   "outputs": [],
   "source": [
    "lst=[[0 for i in range(c+1)] for i in range(r+1)]\n",
    "lst[1][1]=1"
   ]
  },
  {
   "cell_type": "code",
   "execution_count": 39,
   "metadata": {},
   "outputs": [
    {
     "name": "stdout",
     "output_type": "stream",
     "text": [
      "2333606220\n"
     ]
    }
   ],
   "source": [
    "lst=[[0 for i in range(c+1)] for i in range(r+1)]\n",
    "lst[1][1]=1\n",
    "for row in range(r+1):\n",
    "    for col in range(c+1):\n",
    "        if row<r:\n",
    "            lst[row+1][col]+=lst[row][col]\n",
    "        if col<c:\n",
    "            lst[row][col+1]+=lst[row][col]\n",
    "print(lst[r][c])\n"
   ]
  },
  {
   "cell_type": "code",
   "execution_count": 40,
   "metadata": {},
   "outputs": [],
   "source": [
    "tn=5;an=[2,3]"
   ]
  },
  {
   "cell_type": "code",
   "execution_count": 44,
   "metadata": {},
   "outputs": [],
   "source": []
  },
  {
   "cell_type": "code",
   "execution_count": 60,
   "metadata": {},
   "outputs": [
    {
     "data": {
      "text/plain": [
       "False"
      ]
     },
     "execution_count": 60,
     "metadata": {},
     "output_type": "execute_result"
    }
   ],
   "source": [
    "def cansum(tn,an):\n",
    "    lst=[False for i in range(tn+1)]\n",
    "    lst[0]=True\n",
    "    for inx,val in enumerate(lst):\n",
    "        if val==True:\n",
    "            for num in an:\n",
    "                if (inx+num)<len(lst):\n",
    "                    lst[inx+num]=True\n",
    "    return lst[-1]\n",
    "cansum(13,[5,7])"
   ]
  },
  {
   "cell_type": "code",
   "execution_count": 2,
   "metadata": {},
   "outputs": [],
   "source": [
    "tn=5;an=[2,3]"
   ]
  },
  {
   "cell_type": "code",
   "execution_count": 3,
   "metadata": {},
   "outputs": [],
   "source": []
  },
  {
   "cell_type": "code",
   "execution_count": 8,
   "metadata": {},
   "outputs": [
    {
     "data": {
      "text/plain": [
       "[1, 2, 3, 4]"
      ]
     },
     "execution_count": 8,
     "metadata": {},
     "output_type": "execute_result"
    }
   ],
   "source": [
    "[1,2,3]+[4]"
   ]
  },
  {
   "cell_type": "code",
   "execution_count": 10,
   "metadata": {},
   "outputs": [],
   "source": [
    "def anysum(tn,an):\n",
    "    lst=[None for i in range(tn+1)]\n",
    "    lst[0]=[]\n",
    "    for inx,val in enumerate(lst):\n",
    "        for num in an:\n",
    "            if inx+num<len(lst) and val is not None:\n",
    "                lst[inx+num]=(lst[inx]+[num])[:]\n",
    "    return lst[-1]"
   ]
  },
  {
   "cell_type": "code",
   "execution_count": 16,
   "metadata": {},
   "outputs": [],
   "source": [
    "anysum(11,[5,7])"
   ]
  },
  {
   "cell_type": "code",
   "execution_count": 21,
   "metadata": {},
   "outputs": [],
   "source": []
  },
  {
   "cell_type": "code",
   "execution_count": 37,
   "metadata": {},
   "outputs": [
    {
     "name": "stdout",
     "output_type": "stream",
     "text": [
      "4\n"
     ]
    }
   ],
   "source": [
    "tn=8;an=[2,3]\n",
    "lst=[0 for i in range(tn+1)]\n",
    "lst[0]=1\n",
    "for inx,val in enumerate(lst):\n",
    "    for num in an:\n",
    "        if val != 0 and inx+num<len(lst):\n",
    "            lst[inx+num]+=lst[inx]\n",
    "print(lst[-1])"
   ]
  },
  {
   "cell_type": "code",
   "execution_count": 2,
   "metadata": {},
   "outputs": [],
   "source": []
  },
  {
   "cell_type": "code",
   "execution_count": 36,
   "metadata": {},
   "outputs": [
    {
     "name": "stdout",
     "output_type": "stream",
     "text": [
      "[[2, 3, 3], [3, 2, 3], [3, 3, 2], [2, 2, 2, 2]]\n"
     ]
    }
   ],
   "source": [
    "tn=8;an=[2,3]\n",
    "lst=[[] for i in range(tn+1)]\n",
    "lst[0]=[[]]\n",
    "for inx,val in enumerate(lst):\n",
    "    if val !=[]:\n",
    "        for num in an:\n",
    "            if inx+num<len(lst):\n",
    "                for k in [i+[num] for i in lst[inx]]:\n",
    "                    lst[inx+num].append(k) \n",
    "print(lst[-1])"
   ]
  },
  {
   "cell_type": "code",
   "execution_count": 24,
   "metadata": {},
   "outputs": [],
   "source": [
    "tn=5;an=[2,3]\n",
    "lst=[[] for i in range(tn+1)]\n",
    "lst[0]=[[]]"
   ]
  },
  {
   "cell_type": "code",
   "execution_count": 25,
   "metadata": {},
   "outputs": [
    {
     "data": {
      "text/plain": [
       "[[[]], [], [], [], [], []]"
      ]
     },
     "execution_count": 25,
     "metadata": {},
     "output_type": "execute_result"
    }
   ],
   "source": [
    "lst"
   ]
  },
  {
   "cell_type": "code",
   "execution_count": 2,
   "metadata": {},
   "outputs": [],
   "source": []
  },
  {
   "cell_type": "code",
   "execution_count": 3,
   "metadata": {},
   "outputs": [],
   "source": []
  },
  {
   "cell_type": "code",
   "execution_count": 30,
   "metadata": {},
   "outputs": [],
   "source": [
    "def bestsum(tn,an):\n",
    "    lst=[None for i in range(tn+1)]\n",
    "    lst[0]=[]\n",
    "    for inx,val in enumerate(lst):\n",
    "        if val != None:\n",
    "            for num in an:\n",
    "                if inx+num<len(lst):\n",
    "                    temp=lst[inx]+[num]\n",
    "                    if lst[inx+num]==None:\n",
    "                        lst[inx+num]=temp\n",
    "                    if len(lst[inx+num])>len(temp):\n",
    "                        lst[inx+num]=temp\n",
    "    return lst[-1]"
   ]
  },
  {
   "cell_type": "code",
   "execution_count": 31,
   "metadata": {},
   "outputs": [
    {
     "data": {
      "text/plain": [
       "[2, 3, 3]"
      ]
     },
     "execution_count": 31,
     "metadata": {},
     "output_type": "execute_result"
    }
   ],
   "source": [
    "bestsum(8,[2,3])"
   ]
  },
  {
   "cell_type": "code",
   "execution_count": 43,
   "metadata": {},
   "outputs": [
    {
     "data": {
      "text/plain": [
       "False"
      ]
     },
     "execution_count": 43,
     "metadata": {},
     "output_type": "execute_result"
    }
   ],
   "source": [
    "def canword(tw,aw):\n",
    "    lst=[False for i in range(len(tw)+1)]\n",
    "    lst[0]=True\n",
    "    for inx,val in enumerate(lst):\n",
    "        if val:\n",
    "            for word in aw:\n",
    "                if inx+len(word)<len(lst):\n",
    "                    if word==tw[inx:len(word)+inx]:\n",
    "                        lst[inx+len(word)]=True\n",
    "    return(lst[-1])\n",
    "canword('ababbc',['a','b','ab'])"
   ]
  },
  {
   "cell_type": "code",
   "execution_count": 98,
   "metadata": {},
   "outputs": [],
   "source": [
    "def howword(tw,aw):\n",
    "    lst=[None for i in range(len(tw)+1)]\n",
    "    lst[0]=[]\n",
    "    for inx,val in enumerate(lst):\n",
    "        if val!=None:\n",
    "            for word in aw:\n",
    "                if inx+len(word)<len(lst):\n",
    "                    if word==tw[inx:len(word)+inx]:\n",
    "                        lst[inx+len(word)]=lst[inx]+[word]\n",
    "    return(lst[-1])\n",
    "howword('abc',['ab'])"
   ]
  },
  {
   "cell_type": "code",
   "execution_count": 12,
   "metadata": {},
   "outputs": [],
   "source": [
    "def allword(tw,aw):\n",
    "    lst=[[] for i in range(len(tw)+1)]\n",
    "    lst[0]=[[]]\n",
    "    for inx,val in enumerate(lst):\n",
    "        if val!=[]:\n",
    "            for word in aw:\n",
    "                if inx+len(word)<len(lst):\n",
    "                    if word==tw[inx:len(word)+inx]:\n",
    "                        new_val=[i+[word] for i in lst[inx]]\n",
    "                        for i in lst[inx]:\n",
    "                            lst[inx+len(word)].append(i[:]+[word])\n",
    "    return(lst[-1])                   "
   ]
  },
  {
   "cell_type": "code",
   "execution_count": 14,
   "metadata": {},
   "outputs": [
    {
     "data": {
      "text/plain": [
       "[['ac', 'b', 'a', 'b']]"
      ]
     },
     "execution_count": 14,
     "metadata": {},
     "output_type": "execute_result"
    }
   ],
   "source": []
  },
  {
   "cell_type": "code",
   "execution_count": 26,
   "metadata": {},
   "outputs": [],
   "source": [
    "def bestword(tw,aw):\n",
    "    lst=[None for i in range(len(tw)+1)]\n",
    "    lst[0]=[]\n",
    "    for inx,val in enumerate(lst):\n",
    "        if val != None:\n",
    "            for word in aw:\n",
    "                if inx+len(word)<len(lst):\n",
    "                    if word==tw[inx:len(word)+inx]:\n",
    "                        if lst[inx+len(word)]==None:\n",
    "                            lst[inx+len(word)]=lst[inx]+[word]\n",
    "                        if len(lst[inx+len(word)])>len(lst[inx]+[word]):\n",
    "                            lst[inx+len(word)]=lst[inx]+[word]\n",
    "    return(lst[-1])"
   ]
  },
  {
   "cell_type": "code",
   "execution_count": 28,
   "metadata": {},
   "outputs": [
    {
     "data": {
      "text/plain": [
       "['ab', 'ab', 'b']"
      ]
     },
     "execution_count": 28,
     "metadata": {},
     "output_type": "execute_result"
    }
   ],
   "source": [
    "bestword('ababb',['a','b','ab'])"
   ]
  },
  {
   "cell_type": "code",
   "execution_count": 29,
   "metadata": {},
   "outputs": [
    {
     "data": {
      "text/plain": [
       "[['ab', 'ab', 'b'],\n",
       " ['a', 'b', 'ab', 'b'],\n",
       " ['ab', 'a', 'b', 'b'],\n",
       " ['a', 'b', 'a', 'b', 'b']]"
      ]
     },
     "execution_count": 29,
     "metadata": {},
     "output_type": "execute_result"
    }
   ],
   "source": [
    "allword('ababb',['a','b','ab'])"
   ]
  },
  {
   "cell_type": "code",
   "execution_count": 4,
   "metadata": {},
   "outputs": [],
   "source": [
    "def wayword(tw,aw):\n",
    "    lst=[0 for i in range(len(tw))]\n",
    "    lst[0]=1\n",
    "    for inx,val in enumerate(lst):\n",
    "        if val!=0:\n",
    "            for word in aw:\n",
    "                if inx+len(word)<len(lst):\n",
    "                    if word==tw[inx:len(word)+inx]:\n",
    "                        lst[inx+len(word)]+=lst[inx]\n",
    "    return(lst[-1])"
   ]
  },
  {
   "cell_type": "code",
   "execution_count": 5,
   "metadata": {},
   "outputs": [
    {
     "data": {
      "text/plain": [
       "4"
      ]
     },
     "execution_count": 5,
     "metadata": {},
     "output_type": "execute_result"
    }
   ],
   "source": [
    "wayword('ababb',['a','b','ab'])"
   ]
  },
  {
   "cell_type": "code",
   "execution_count": 51,
   "metadata": {},
   "outputs": [],
   "source": [
    "num=127739;swap=3\n",
    "num=[int(i) for i in str(num)]"
   ]
  },
  {
   "cell_type": "code",
   "execution_count": 52,
   "metadata": {},
   "outputs": [
    {
     "data": {
      "text/plain": [
       "[1, 2, 7, 7, 3, 9]"
      ]
     },
     "execution_count": 52,
     "metadata": {},
     "output_type": "execute_result"
    }
   ],
   "source": [
    "num"
   ]
  },
  {
   "cell_type": "code",
   "execution_count": 22,
   "metadata": {},
   "outputs": [
    {
     "data": {
      "text/plain": [
       "4"
      ]
     },
     "execution_count": 22,
     "metadata": {},
     "output_type": "execute_result"
    }
   ],
   "source": [
    "num.index(max(num))"
   ]
  },
  {
   "cell_type": "code",
   "execution_count": 53,
   "metadata": {},
   "outputs": [],
   "source": [
    "l_inx=num.index(max(num))\n",
    "num[0],num[l_inx]=num[l_inx],num[0]"
   ]
  },
  {
   "cell_type": "code",
   "execution_count": 54,
   "metadata": {},
   "outputs": [
    {
     "data": {
      "text/plain": [
       "[9, 2, 7, 7, 3, 1]"
      ]
     },
     "execution_count": 54,
     "metadata": {},
     "output_type": "execute_result"
    }
   ],
   "source": [
    "num"
   ]
  },
  {
   "cell_type": "code",
   "execution_count": 58,
   "metadata": {},
   "outputs": [
    {
     "data": {
      "text/plain": [
       "[9, 7, 2, 7, 3, 1]"
      ]
     },
     "execution_count": 58,
     "metadata": {},
     "output_type": "execute_result"
    }
   ],
   "source": [
    "num"
   ]
  },
  {
   "cell_type": "code",
   "execution_count": 55,
   "metadata": {},
   "outputs": [],
   "source": [
    "l_inx=num[1:].index(max(num[1:]))+1"
   ]
  },
  {
   "cell_type": "code",
   "execution_count": 56,
   "metadata": {},
   "outputs": [
    {
     "data": {
      "text/plain": [
       "2"
      ]
     },
     "execution_count": 56,
     "metadata": {},
     "output_type": "execute_result"
    }
   ],
   "source": [
    "l_inx"
   ]
  },
  {
   "cell_type": "code",
   "execution_count": 57,
   "metadata": {},
   "outputs": [],
   "source": [
    "num[1],num[l_inx]=num[l_inx],num[1]"
   ]
  },
  {
   "cell_type": "code",
   "execution_count": 69,
   "metadata": {},
   "outputs": [],
   "source": [
    "def swaping(num,swap):\n",
    "    num=[int(i) for i in str(num)]\n",
    "    for i in range(swap):\n",
    "        l_inx=num[i:].index(max(num[i:]))+i\n",
    "        num[i],num[l_inx]=num[l_inx],num[i]\n",
    "    return int(''.join([str(i) for i in num]))"
   ]
  },
  {
   "cell_type": "code",
   "execution_count": 71,
   "metadata": {},
   "outputs": [
    {
     "data": {
      "text/plain": [
       "977231"
      ]
     },
     "execution_count": 71,
     "metadata": {},
     "output_type": "execute_result"
    }
   ],
   "source": [
    "swaping(127739,3)"
   ]
  },
  {
   "cell_type": "code",
   "execution_count": 2,
   "metadata": {},
   "outputs": [],
   "source": [
    "lst=[[5,10],[15,20],[0,30]]"
   ]
  },
  {
   "cell_type": "code",
   "execution_count": 3,
   "metadata": {},
   "outputs": [],
   "source": [
    "\n",
    "    "
   ]
  },
  {
   "cell_type": "code",
   "execution_count": 15,
   "metadata": {},
   "outputs": [],
   "source": [
    "def rooms(lst):\n",
    "    mr=0\n",
    "    cr=0\n",
    "    d={}\n",
    "    for time in lst:\n",
    "        d[time[0]]=1\n",
    "        d[time[-1]]=-1\n",
    "    for i in sorted(d.keys()):\n",
    "        cr+=d[i]\n",
    "        if cr>mr:\n",
    "            mr=cr\n",
    "    return mr\n"
   ]
  },
  {
   "cell_type": "code",
   "execution_count": 16,
   "metadata": {},
   "outputs": [
    {
     "data": {
      "text/plain": [
       "4"
      ]
     },
     "execution_count": 16,
     "metadata": {},
     "output_type": "execute_result"
    }
   ],
   "source": [
    "rooms([[1,100],[2,13],[6,8],[3,7],[20,30]])"
   ]
  },
  {
   "cell_type": "code",
   "execution_count": 8,
   "metadata": {},
   "outputs": [],
   "source": []
  },
  {
   "cell_type": "code",
   "execution_count": 2,
   "metadata": {},
   "outputs": [
    {
     "data": {
      "text/plain": [
       "[2, 4, 7, 4, 2, 1]"
      ]
     },
     "execution_count": 2,
     "metadata": {},
     "output_type": "execute_result"
    }
   ],
   "source": [
    "kids"
   ]
  },
  {
   "cell_type": "code",
   "execution_count": 9,
   "metadata": {},
   "outputs": [],
   "source": []
  },
  {
   "cell_type": "code",
   "execution_count": 10,
   "metadata": {},
   "outputs": [],
   "source": []
  },
  {
   "cell_type": "code",
   "execution_count": 3,
   "metadata": {},
   "outputs": [],
   "source": [
    "kids=[2,4,7,4,2,1]\n",
    "candy=[1 for i in range(len(kids))]\n",
    "unique=[]\n",
    "for i in kids:\n",
    "    if i not in unique:\n",
    "        unique.append(i)\n",
    "for i in unique:\n",
    "    for inx, gr in enumerate(kids):\n",
    "        if gr==i:\n",
    "            if inx==0 or inx==1:\n",
    "                if inx==0 and kids[inx+1]<kids[inx]:\n",
    "                    candy[inx]+=1\n",
    "                if inx==len(kids)-1 and kids[inx-1]<kids[inx]:\n",
    "                    candy[inx]+=1\n",
    "                    \n",
    "            elif inx==len(kids)-1 and kids[inx]>kids[inx-1]:\n",
    "                candy[inx]+=1\n",
    "            elif kids[inx-1]<kids[inx] and kids[inx+1]<kids[inx]:\n",
    "                candy[inx]+=max(candy[inx-1], candy[inx+1])"
   ]
  },
  {
   "cell_type": "code",
   "execution_count": 4,
   "metadata": {},
   "outputs": [
    {
     "data": {
      "text/plain": [
       "[1, 1, 2, 1, 1, 1]"
      ]
     },
     "execution_count": 4,
     "metadata": {},
     "output_type": "execute_result"
    }
   ],
   "source": [
    "candy"
   ]
  },
  {
   "cell_type": "code",
   "execution_count": 7,
   "metadata": {},
   "outputs": [],
   "source": [
    "string='hello'"
   ]
  },
  {
   "cell_type": "code",
   "execution_count": 4,
   "metadata": {},
   "outputs": [
    {
     "data": {
      "text/plain": [
       "'a'"
      ]
     },
     "execution_count": 4,
     "metadata": {},
     "output_type": "execute_result"
    }
   ],
   "source": [
    "string[2]"
   ]
  },
  {
   "cell_type": "code",
   "execution_count": 6,
   "metadata": {},
   "outputs": [
    {
     "data": {
      "text/plain": [
       "5"
      ]
     },
     "execution_count": 6,
     "metadata": {},
     "output_type": "execute_result"
    }
   ],
   "source": [
    "len(string)"
   ]
  },
  {
   "cell_type": "code",
   "execution_count": 8,
   "metadata": {},
   "outputs": [
    {
     "data": {
      "text/plain": [
       "'he'"
      ]
     },
     "execution_count": 8,
     "metadata": {},
     "output_type": "execute_result"
    }
   ],
   "source": [
    "string[0:2]"
   ]
  },
  {
   "cell_type": "code",
   "execution_count": 11,
   "metadata": {},
   "outputs": [
    {
     "data": {
      "text/plain": [
       "'el'"
      ]
     },
     "execution_count": 11,
     "metadata": {},
     "output_type": "execute_result"
    }
   ],
   "source": [
    "string[1:3]"
   ]
  },
  {
   "cell_type": "code",
   "execution_count": 10,
   "metadata": {},
   "outputs": [
    {
     "data": {
      "text/plain": [
       "'HELLO'"
      ]
     },
     "execution_count": 10,
     "metadata": {},
     "output_type": "execute_result"
    }
   ],
   "source": [
    "string.upper()"
   ]
  },
  {
   "cell_type": "code",
   "execution_count": null,
   "metadata": {},
   "outputs": [],
   "source": [
    "'shoot'"
   ]
  }
 ],
 "metadata": {
  "kernelspec": {
   "display_name": "Python 3",
   "language": "python",
   "name": "python3"
  },
  "language_info": {
   "codemirror_mode": {
    "name": "ipython",
    "version": 3
   },
   "file_extension": ".py",
   "mimetype": "text/x-python",
   "name": "python",
   "nbconvert_exporter": "python",
   "pygments_lexer": "ipython3",
   "version": "3.11.4"
  }
 },
 "nbformat": 4,
 "nbformat_minor": 2
}
