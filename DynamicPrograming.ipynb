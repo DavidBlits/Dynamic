{
 "cells": [
  {
   "cell_type": "code",
   "execution_count": 11,
   "metadata": {},
   "outputs": [],
   "source": [
    "### FIB ###\n",
    "def fib(n):\n",
    "    if n==1 or n==2: return 1\n",
    "    elif n<1: return 0\n",
    "    return fib(n-1)+fib(n-2)"
   ]
  },
  {
   "cell_type": "code",
   "execution_count": 13,
   "metadata": {},
   "outputs": [],
   "source": [
    "### FIB ###\n",
    "def fib(n,d={}):\n",
    "    if n in d: return d[n]\n",
    "    elif n==1 or n==2: return 1\n",
    "    elif n<1: return 0\n",
    "    d[n]=fib(n-1)+fib(n-2)\n",
    "    return d[n]"
   ]
  },
  {
   "cell_type": "code",
   "execution_count": 15,
   "metadata": {},
   "outputs": [
    {
     "data": {
      "text/plain": [
       "1125899906842624"
      ]
     },
     "execution_count": 15,
     "metadata": {},
     "output_type": "execute_result"
    }
   ],
   "source": [
    "2**50\n"
   ]
  },
  {
   "cell_type": "code",
   "execution_count": 14,
   "metadata": {},
   "outputs": [
    {
     "data": {
      "text/plain": [
       "12586269025"
      ]
     },
     "execution_count": 14,
     "metadata": {},
     "output_type": "execute_result"
    }
   ],
   "source": [
    "fib(50)"
   ]
  },
  {
   "cell_type": "code",
   "execution_count": 5,
   "metadata": {},
   "outputs": [
    {
     "data": {
      "text/plain": [
       "8"
      ]
     },
     "execution_count": 5,
     "metadata": {},
     "output_type": "execute_result"
    }
   ],
   "source": [
    "fib(6)"
   ]
  },
  {
   "cell_type": "code",
   "execution_count": 24,
   "metadata": {},
   "outputs": [],
   "source": [
    "### grid traveletraveler###\n",
    "def gt(row,col):\n",
    "    if row==0 or col==0: return 0\n",
    "    elif row==1 and col==1: return 1\n",
    "    return gt(row-1,col)+gt(row,col-1)\n",
    "    "
   ]
  },
  {
   "cell_type": "code",
   "execution_count": 35,
   "metadata": {},
   "outputs": [],
   "source": [
    "### grid traveletraveler###\n",
    "def gt(row,col,d={}):\n",
    "    if (row,col) in d:\n",
    "        return d[(row,col)]\n",
    "    elif row==0 or col==0: return 0\n",
    "    elif row==1 and col==1: return 1\n",
    "    d[(row,col)]=d[(col,row)]=gt(row-1,col)+gt(row,col-1)\n",
    "    return d[(row,col)]\n",
    "    "
   ]
  },
  {
   "cell_type": "code",
   "execution_count": 44,
   "metadata": {},
   "outputs": [],
   "source": [
    "### grid traveletraveler###\n",
    "def gt(row,col,d={}):\n",
    "    if (row,col) in d:\n",
    "        return d[(row,col)]\n",
    "    elif row==0 or col==0: return 0\n",
    "    elif row==1 and col==1: return 1\n",
    "    d[(row,col)]=gt(row-1,col)+gt(row,col-1)\n",
    "    return d[(row,col)]\n",
    "    "
   ]
  },
  {
   "cell_type": "code",
   "execution_count": 28,
   "metadata": {},
   "outputs": [],
   "source": [
    "import tim"
   ]
  },
  {
   "cell_type": "code",
   "execution_count": null,
   "metadata": {},
   "outputs": [],
   "source": [
    "import time\n",
    "\n",
    "def some_function():\n",
    "    # Your function logic here\n",
    "    pass\n",
    "\n",
    "start_time = time.time()\n",
    "\n",
    "gt(234,234)\n",
    "\n",
    "end_time = time.time()\n",
    "\n",
    "execution_time = end_time - start_time\n",
    "\n",
    "print(f\"The function took {execution_time} seconds to complete.\")"
   ]
  },
  {
   "cell_type": "code",
   "execution_count": 53,
   "metadata": {},
   "outputs": [
    {
     "name": "stdout",
     "output_type": "stream",
     "text": [
      "The function took 0.0 seconds to complete.\n"
     ]
    }
   ],
   "source": [
    "import time\n",
    "\n",
    "def some_function():\n",
    "    # Your function logic here\n",
    "    pass\n",
    "\n",
    "start_time = time.time()\n",
    "\n",
    "gt(500,500)\n",
    "\n",
    "end_time = time.time()\n",
    "\n",
    "execution_time = end_time - start_time\n",
    "\n",
    "print(f\"The function took {execution_time} seconds to complete.\")"
   ]
  },
  {
   "cell_type": "code",
   "execution_count": 3,
   "metadata": {},
   "outputs": [],
   "source": [
    "#This is can sum\n",
    "\n",
    "def can_sum(tg,anums):\n",
    "    if tg==0: return True\n",
    "    elif tg<0: return False\n",
    "    for i in anums:\n",
    "        if can_sum(tg-i,anums):\n",
    "            return True\n",
    "    return False\n"
   ]
  },
  {
   "cell_type": "code",
   "execution_count": 9,
   "metadata": {},
   "outputs": [
    {
     "data": {
      "text/plain": [
       "False"
      ]
     },
     "execution_count": 9,
     "metadata": {},
     "output_type": "execute_result"
    }
   ],
   "source": [
    "can_sum(5,[2])"
   ]
  }
 ],
 "metadata": {
  "kernelspec": {
   "display_name": "Python 3",
   "language": "python",
   "name": "python3"
  },
  "language_info": {
   "codemirror_mode": {
    "name": "ipython",
    "version": 3
   },
   "file_extension": ".py",
   "mimetype": "text/x-python",
   "name": "python",
   "nbconvert_exporter": "python",
   "pygments_lexer": "ipython3",
   "version": "3.11.4"
  }
 },
 "nbformat": 4,
 "nbformat_minor": 2
}
