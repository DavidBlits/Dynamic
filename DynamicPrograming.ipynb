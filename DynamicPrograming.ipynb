{
 "cells": [
  {
   "cell_type": "code",
   "execution_count": 11,
   "metadata": {},
   "outputs": [],
   "source": [
    "### FIB ###\n",
    "def fib(n):\n",
    "    if n==1 or n==2: return 1\n",
    "    elif n<1: return 0\n",
    "    return fib(n-1)+fib(n-2)"
   ]
  },
  {
   "cell_type": "code",
   "execution_count": 13,
   "metadata": {},
   "outputs": [],
   "source": [
    "### FIB ###\n",
    "def fib(n,d={}):\n",
    "    if n in d: return d[n]\n",
    "    elif n==1 or n==2: return 1\n",
    "    elif n<1: return 0\n",
    "    d[n]=fib(n-1)+fib(n-2)\n",
    "    return d[n]"
   ]
  },
  {
   "cell_type": "code",
   "execution_count": 15,
   "metadata": {},
   "outputs": [
    {
     "data": {
      "text/plain": [
       "1125899906842624"
      ]
     },
     "execution_count": 15,
     "metadata": {},
     "output_type": "execute_result"
    }
   ],
   "source": [
    "2**50\n"
   ]
  },
  {
   "cell_type": "code",
   "execution_count": 14,
   "metadata": {},
   "outputs": [
    {
     "data": {
      "text/plain": [
       "12586269025"
      ]
     },
     "execution_count": 14,
     "metadata": {},
     "output_type": "execute_result"
    }
   ],
   "source": [
    "fib(50)"
   ]
  },
  {
   "cell_type": "code",
   "execution_count": 5,
   "metadata": {},
   "outputs": [
    {
     "data": {
      "text/plain": [
       "8"
      ]
     },
     "execution_count": 5,
     "metadata": {},
     "output_type": "execute_result"
    }
   ],
   "source": [
    "fib(6)"
   ]
  },
  {
   "cell_type": "code",
   "execution_count": 24,
   "metadata": {},
   "outputs": [],
   "source": [
    "### grid traveletraveler###\n",
    "def gt(row,col):\n",
    "    if row==0 or col==0: return 0\n",
    "    elif row==1 and col==1: return 1\n",
    "    return gt(row-1,col)+gt(row,col-1)\n",
    "    "
   ]
  },
  {
   "cell_type": "code",
   "execution_count": 35,
   "metadata": {},
   "outputs": [],
   "source": [
    "### grid traveletraveler###\n",
    "def gt(row,col,d={}):\n",
    "    if (row,col) in d:\n",
    "        return d[(row,col)]\n",
    "    elif row==0 or col==0: return 0\n",
    "    elif row==1 and col==1: return 1\n",
    "    d[(row,col)]=d[(col,row)]=gt(row-1,col)+gt(row,col-1)\n",
    "    return d[(row,col)]\n",
    "    "
   ]
  },
  {
   "cell_type": "code",
   "execution_count": 44,
   "metadata": {},
   "outputs": [],
   "source": [
    "### grid traveletraveler###\n",
    "def gt(row,col,d={}):\n",
    "    if (row,col) in d:\n",
    "        return d[(row,col)]\n",
    "    elif row==0 or col==0: return 0\n",
    "    elif row==1 and col==1: return 1\n",
    "    d[(row,col)]=gt(row-1,col)+gt(row,col-1)\n",
    "    return d[(row,col)]\n",
    "    "
   ]
  },
  {
   "cell_type": "code",
   "execution_count": null,
   "metadata": {},
   "outputs": [],
   "source": [
    "import time\n",
    "\n",
    "def some_function():\n",
    "    # Your function logic here\n",
    "    pass\n",
    "\n",
    "start_time = time.time()\n",
    "\n",
    "gt(234,234)\n",
    "\n",
    "end_time = time.time()\n",
    "\n",
    "execution_time = end_time - start_time\n",
    "\n",
    "print(f\"The function took {execution_time} seconds to complete.\")"
   ]
  },
  {
   "cell_type": "code",
   "execution_count": 53,
   "metadata": {},
   "outputs": [
    {
     "name": "stdout",
     "output_type": "stream",
     "text": [
      "The function took 0.0 seconds to complete.\n"
     ]
    }
   ],
   "source": [
    "import time\n",
    "\n",
    "def some_function():\n",
    "    # Your function logic here\n",
    "    pass\n",
    "\n",
    "start_time = time.time()\n",
    "\n",
    "gt(500,500)\n",
    "\n",
    "end_time = time.time()\n",
    "\n",
    "execution_time = end_time - start_time\n",
    "\n",
    "print(f\"The function took {execution_time} seconds to complete.\")"
   ]
  },
  {
   "cell_type": "code",
   "execution_count": 23,
   "metadata": {},
   "outputs": [],
   "source": [
    "#This is can sum\n",
    "\n",
    "def can_sum(tg,anums):\n",
    "    if tg==0: return True\n",
    "    elif tg<0: return False\n",
    "    for i in anums:\n",
    "        if can_sum(tg-i,anums):\n",
    "            return True\n",
    "    return False\n"
   ]
  },
  {
   "cell_type": "code",
   "execution_count": 29,
   "metadata": {},
   "outputs": [],
   "source": [
    "#This is can sum\n",
    "\n",
    "def can_sum(tg,anums,d={}):\n",
    "    if tg in d:\n",
    "        return d[tg]\n",
    "    elif tg==0: return True\n",
    "    elif tg<0: return False\n",
    "    for i in anums:\n",
    "        if can_sum(tg-i,anums):\n",
    "            d[tg]=True\n",
    "            return True\n",
    "    d[tg]=False\n",
    "    return False"
   ]
  },
  {
   "cell_type": "code",
   "execution_count": 53,
   "metadata": {},
   "outputs": [],
   "source": [
    "#This is how sum\n",
    "def how_sum(tg,anums):\n",
    "    if tg==0: return []\n",
    "    elif tg<0: return None\n",
    "    for i in anums:\n",
    "        res=how_sum(tg-i,anums)\n",
    "        if res is not None:\n",
    "            res.append(i)\n",
    "            return res\n",
    "    return None\n"
   ]
  },
  {
   "cell_type": "code",
   "execution_count": 55,
   "metadata": {},
   "outputs": [],
   "source": [
    "#This is how sum memoization\n",
    "def how_sum(tg,anums,d={}):\n",
    "    if tg in d: return d[tg]\n",
    "    elif tg==0: return []\n",
    "    elif tg<0:  return None\n",
    "    for i in anums:\n",
    "        res=how_sum(tg-i,anums,d)\n",
    "        if res is not None:\n",
    "            res.append(i)\n",
    "            d[tg]=res.copy()\n",
    "            return d[tg]\n",
    "    d[tg]=None\n",
    "    return d[tg]\n"
   ]
  },
  {
   "cell_type": "code",
   "execution_count": 94,
   "metadata": {},
   "outputs": [],
   "source": [
    "\n",
    "#This is best sum\n",
    "def how_sum(tg,anums):\n",
    "    if tg==0: return []\n",
    "    elif tg<0: return None\n",
    "    best=None\n",
    "    for i in anums:\n",
    "        res=how_sum(tg-i,anums)\n",
    "        if res is not None:\n",
    "            res.append(i)\n",
    "            if best==None:\n",
    "                best=res.copy()\n",
    "            if len(best)>len(res):\n",
    "                best=res.copy()\n",
    "    return best"
   ]
  },
  {
   "cell_type": "code",
   "execution_count": 182,
   "metadata": {},
   "outputs": [
    {
     "data": {
      "text/plain": [
       "[50, 50]"
      ]
     },
     "execution_count": 182,
     "metadata": {},
     "output_type": "execute_result"
    }
   ],
   "source": [
    "\n",
    "#This is best sum momization\n",
    "def how_sum(tg,anums,d={}):\n",
    "    if tg in d: return d[tg]\n",
    "    elif tg==0: return []\n",
    "    elif tg<0: return None\n",
    "    best=None\n",
    "    for i in anums:\n",
    "        res=how_sum(tg-i,anums,d)\n",
    "        if res is not None:\n",
    "            res=res+[i]\n",
    "            if best==None:\n",
    "                best=res.copy()\n",
    "            if len(best)>len(res):\n",
    "                best=res.copy()\n",
    "    if best==None:\n",
    "        d[tg]=best\n",
    "    else:\n",
    "        d[tg]=best.copy()\n",
    "    return best\n",
    "how_sum(100,[1,2,25,50])"
   ]
  },
  {
   "cell_type": "code",
   "execution_count": 166,
   "metadata": {},
   "outputs": [
    {
     "data": {
      "text/plain": [
       "[2, 2, 2, 25]"
      ]
     },
     "execution_count": 166,
     "metadata": {},
     "output_type": "execute_result"
    }
   ],
   "source": [
    "how_sum(4,[1,2])"
   ]
  },
  {
   "cell_type": "code",
   "execution_count": 126,
   "metadata": {},
   "outputs": [
    {
     "data": {
      "text/plain": [
       "[5, 2, 1, 2, 5, 25]"
      ]
     },
     "execution_count": 126,
     "metadata": {},
     "output_type": "execute_result"
    }
   ],
   "source": [
    "how_sum(8,[1,4,5])"
   ]
  },
  {
   "cell_type": "code",
   "execution_count": 36,
   "metadata": {},
   "outputs": [],
   "source": [
    "#This is can construct memoziation\n",
    "def canconstruct(tw,pieces,d={}):\n",
    "    if tw in d:\n",
    "        return d[tw]\n",
    "    if tw=='':\n",
    "        return True\n",
    "    for i in pieces:\n",
    "        if i==tw[:len(i)]:\n",
    "            if canconstruct(tw[len(i):],pieces,d):\n",
    "                d[tw]=True\n",
    "                return True\n",
    "    d[tw]=False\n",
    "    return False"
   ]
  },
  {
   "cell_type": "code",
   "execution_count": 39,
   "metadata": {},
   "outputs": [
    {
     "data": {
      "text/plain": [
       "True"
      ]
     },
     "execution_count": 39,
     "metadata": {},
     "output_type": "execute_result"
    }
   ],
   "source": [
    "canconstruct('purple',['purp','p','ur','le','purpl'])"
   ]
  },
  {
   "cell_type": "code",
   "execution_count": null,
   "metadata": {},
   "outputs": [],
   "source": [
    "#This is how construct\n",
    "def canconstruct(tw,pieces):\n",
    "    if tw=='':\n",
    "        return True\n",
    "    for i in pieces:\n",
    "        if i==tw[:len(i)]:\n",
    "            if canconstruct(tw[len(i):],pieces):\n",
    "                return True\n",
    "    return False"
   ]
  }
 ],
 "metadata": {
  "kernelspec": {
   "display_name": "Python 3",
   "language": "python",
   "name": "python3"
  },
  "language_info": {
   "codemirror_mode": {
    "name": "ipython",
    "version": 3
   },
   "file_extension": ".py",
   "mimetype": "text/x-python",
   "name": "python",
   "nbconvert_exporter": "python",
   "pygments_lexer": "ipython3",
   "version": "3.11.4"
  }
 },
 "nbformat": 4,
 "nbformat_minor": 2
}
